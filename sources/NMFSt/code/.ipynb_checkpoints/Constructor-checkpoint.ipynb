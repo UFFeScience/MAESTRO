{
 "cells": [
  {
   "cell_type": "markdown",
   "metadata": {},
   "source": [
    "<h2 align=\"center\"><b>ALINHAMENTO E GERAÇÃO DE ÁRVORE FILOGENÉTICA</b></h2>\n",
    "<p align=\"center\"><b>IMPORTANTE LEMBRAR:</b></p>\n",
    "\n",
    "- É necessário ter o clustalw instalado\n",
    "- Sequências de proteínas devem ser fornecidas do diretório especificado em `input_path`\n",
    "- O formato das Sequências de proteínas deve ser especificado em `OUTPUT_FORMAT`\n",
    "\n",
    "<h3 align=\"center\"><b>IMPORTS E CONFIGURAÇÃO DO DIRETÓRIO BASE</b></h3>"
   ]
  },
  {
   "cell_type": "code",
   "execution_count": 1,
   "metadata": {},
   "outputs": [
    {
     "name": "stderr",
     "output_type": "stream",
     "text": [
      "/home/luiz/.local/lib/python3.10/site-packages/Bio/Application/__init__.py:40: BiopythonDeprecationWarning: The Bio.Application modules and modules relying on it have been deprecated.\n",
      "\n",
      "Due to the on going maintenance burden of keeping command line application\n",
      "wrappers up to date, we have decided to deprecate and eventually remove these\n",
      "modules.\n",
      "\n",
      "We instead now recommend building your command line and invoking it directly\n",
      "with the subprocess module.\n",
      "  warnings.warn(\n"
     ]
    },
    {
     "ename": "FileNotFoundError",
     "evalue": "[Errno 2] No such file or directory: '../data/data/testset'",
     "output_type": "error",
     "traceback": [
      "\u001b[0;31m---------------------------------------------------------------------------\u001b[0m",
      "\u001b[0;31mFileNotFoundError\u001b[0m                         Traceback (most recent call last)",
      "Cell \u001b[0;32mIn[1], line 22\u001b[0m\n\u001b[1;32m     20\u001b[0m \u001b[38;5;66;03m# listagem de arquivos\u001b[39;00m\n\u001b[1;32m     21\u001b[0m \u001b[38;5;28mdir\u001b[39m \u001b[38;5;241m=\u001b[39m os\u001b[38;5;241m.\u001b[39mpath\u001b[38;5;241m.\u001b[39mjoin(DATA_PATH, INPUT_PATH)\n\u001b[0;32m---> 22\u001b[0m files \u001b[38;5;241m=\u001b[39m \u001b[43mos\u001b[49m\u001b[38;5;241;43m.\u001b[39;49m\u001b[43mlistdir\u001b[49m\u001b[43m(\u001b[49m\u001b[38;5;28;43mdir\u001b[39;49m\u001b[43m)\u001b[49m\n",
      "\u001b[0;31mFileNotFoundError\u001b[0m: [Errno 2] No such file or directory: '../data/data/testset'"
     ]
    }
   ],
   "source": [
    "from Bio.Align.Applications import ClustalwCommandline\n",
    "from Bio import AlignIO, Phylo, SeqIO\n",
    "from Bio.Phylo.TreeConstruction import DistanceCalculator, DistanceTreeConstructor\n",
    "import os\n",
    "from pathlib import Path\n",
    "\n",
    "# Substitua pelo caminho do diretório que você deseja listar e o formato das seqências\n",
    "INPUT_PATH = 'data/testset' \n",
    "OUTPUT_FORMAT = 'nexus' # newick ou nexus\n",
    "match OUTPUT_FORMAT:\n",
    "    case 'nexus':\n",
    "        EXTENTION_FORMAT = 'nexus' # Nexus: 'nexus'\n",
    "   \n",
    "    case 'nwk':\n",
    "        EXTENTION_FORMAT = 'nwk' # Newick: 'nwk'\n",
    "\n",
    "DATA_PATH = '../data'\n",
    "DATA_OUTPUT_PATH = '../data/out'\n",
    "\n",
    "# listagem de arquivos\n",
    "dir = os.path.join(DATA_PATH, INPUT_PATH)\n",
    "files = os.listdir(dir)"
   ]
  },
  {
   "cell_type": "markdown",
   "metadata": {},
   "source": [
    "<h3 align=\"center\"> <b>LIMPEZA</b> </h3>"
   ]
  },
  {
   "cell_type": "code",
   "execution_count": null,
   "metadata": {},
   "outputs": [],
   "source": [
    "\n",
    "def clean_Trees():\n",
    "    dir_Trees = os.path.join(DATA_OUTPUT_PATH,'Trees')\n",
    "    file_trees = os.listdir(dir_Trees)\n",
    "\n",
    "    for name_file_trees in file_trees:\n",
    "        path_trees = os.path.join(dir_Trees,name_file_trees)\n",
    "        if name_file_trees != \"file.gitkeep\":\n",
    "            os.remove(path_trees)\n",
    "\n",
    "def clean_tmp():\n",
    "    dir_tmp = os.path.join(DATA_OUTPUT_PATH,'tmp')\n",
    "    files_tmp = os.listdir(dir_tmp)\n",
    "\n",
    "    for name_file_tmp in files_tmp:\n",
    "        path_tmp = os.path.join(dir_tmp,name_file_tmp)\n",
    "        if name_file_tmp != \"file.gitkeep\":\n",
    "            os.remove(path_tmp)\n",
    "\n",
    "\n",
    "def clean_NoPipe():\n",
    "    dir_NoPipe = os.path.join(DATA_PATH, INPUT_PATH)\n",
    "\n",
    "    for file_name in os.listdir(dir_NoPipe):\n",
    "        if 'NoPipe' in file_name:\n",
    "            file_path = os.path.join(dir_NoPipe, file_name)\n",
    "            os.remove(file_path)\n",
    "\n",
    "clean_NoPipe()\n",
    "clean_tmp()\n",
    "clean_Trees()"
   ]
  },
  {
   "cell_type": "markdown",
   "metadata": {},
   "source": [
    "<h3 align=\"center\"> <b>VALIDADORES</b> </h3>\n"
   ]
  },
  {
   "cell_type": "code",
   "execution_count": null,
   "metadata": {},
   "outputs": [],
   "source": [
    "\n",
    "#Função que verifica se todas as sequências são proteínas válidas no formato FASTA\"\"\"\n",
    "def validate_sequences(file_path):\n",
    "    # Define os caracteres válidos para uma sequência de proteína.\n",
    "    valid_characters = set('ACDEFGHIKLMNPQRSTVWY')\n",
    "    try:\n",
    "        with open(file_path, 'r') as file:\n",
    "            for line in file:\n",
    "                if line.startswith('>'):\n",
    "                    continue  # Pula a linha de cabeçalho\n",
    "                sequence = line.strip()\n",
    "                if not set(sequence).issubset(valid_characters):\n",
    "                    return False\n",
    "    except FileNotFoundError:\n",
    "        print(f\"O arquivo '{file_path}' não foi encontrado.\")\n",
    "        return False\n",
    "\n",
    "    return True\n",
    "\n",
    "def duplicate_names(file_path):\n",
    "    name_count = {}\n",
    "    try:\n",
    "        for record in SeqIO.parse(file_path, 'fasta'):\n",
    "            name = record.id\n",
    "            name_count[name] = name_count.get(name, 0) + 1\n",
    "            if name_count[name] > 1:\n",
    "                return True\n",
    "    except FileNotFoundError:\n",
    "        print(f\"O arquivo '{file_path}' não foi encontrado.\")\n",
    "        return False\n",
    "\n",
    "    return False"
   ]
  },
  {
   "cell_type": "markdown",
   "metadata": {},
   "source": [
    "<h3 align=\"center\"> <b>TRATAMENTO DE SEQUENCIA</b> </h3>\n"
   ]
  },
  {
   "cell_type": "code",
   "execution_count": null,
   "metadata": {},
   "outputs": [],
   "source": [
    "def remove_pipe(name, path_in_fasta):\n",
    "    sequences = list(SeqIO.parse(path_in_fasta, \"fasta\"))\n",
    "    # Criar um dicionário para armazenar as sequências únicas\n",
    "    unique_sequences = {}\n",
    "    # Iterar pelas sequências do arquivo de entrada\n",
    "    for sequence in sequences:\n",
    "        # Verificar se a sequência já existe no dicionário de sequências únicas\n",
    "        if str(sequence.seq) not in unique_sequences:\n",
    "            # Se a sequência é única, armazená-la no dicionário\n",
    "            unique_sequences[str(sequence.seq)] = sequence\n",
    "    # Criar uma lista de sequências únicas\n",
    "    unique_sequences_list = list(unique_sequences.values())\n",
    "    # Salvar as sequências únicas em um arquivo de saída\n",
    "    output_file_tmp = os.path.join(DATA_PATH,INPUT_PATH,f'{name}_NoPipe')\n",
    "    SeqIO.write(unique_sequences_list, output_file_tmp, \"fasta\")\n",
    "    return output_file_tmp"
   ]
  },
  {
   "cell_type": "markdown",
   "metadata": {},
   "source": [
    "<h3 align=\"center\"> <b>CONSTRUTUOR</b> </h3>\n"
   ]
  },
  {
   "cell_type": "code",
   "execution_count": null,
   "metadata": {},
   "outputs": [],
   "source": [
    "# Mais informações sobre aplicações biopython e clustalwcommandline - https://biopython.org/docs/1.76/api/Bio.Align.Applications.html\n",
    "def constructor_tree(path_in_fasta, path_out_aln, path_out_dnd, path_old_dnd, path_out_tree):\n",
    "    # Executa o Clustalw para alinhar as sequências\n",
    "    clustalw_cline = ClustalwCommandline(\"clustalw\", infile=path_in_fasta, outfile=path_out_aln)# Executa o programa clustalw sem precisar da linha de comando.\n",
    "    clustalw_cline()#  Executa o comando ClustalW com base nos parâmetros definidos no objeto ClustalwCommandline e retorna os resultados da execução na forma de uma tupla de strings.\n",
    "\n",
    "    # Mover o arquivo de saída .dnd para o diretório \"resultados\"\n",
    "    os.rename(path_old_dnd, path_out_dnd)\n",
    "\n",
    "    '''\n",
    "    Clustalw_cline() - gera 2 arquivos de saida por padrão\n",
    "\n",
    "    Nesse caso:\n",
    "    - ORTHOMCL256.aln: Contendo a sequência de ORTHOMCL256 alinhada em formato clustal\n",
    "    - ORTHOMCL256.dnd: Contendo informações sobre o agrupamento hierárquico das sequências alinhadas.\n",
    "    '''\n",
    "\n",
    "    # Abre o arquivo de alinhamento\n",
    "    with open(path_out_aln, \"r\") as handle:\n",
    "        alignment = AlignIO.read(handle, \"clustal\")# O objeto MultipleSeqAlignment retornado é armazenado na variável.\n",
    "\n",
    "    # Calcula a matriz de distância\n",
    "    # argumento 'identity', que indica que a distância entre as sequências será medida pelo número de identidades, ou seja, a fração de posições nas sequências que possuem o mesmo nucleotídeo ou aminoácido.\n",
    "    calculator = DistanceCalculator('identity') \n",
    "    # Calcula a matriz de distâncias entre as sequências\n",
    "    distance_matrix = calculator.get_distance(alignment) \n",
    "\n",
    "    # Constrói a árvore filogenética\n",
    "    # Constrói árvores filogenéticas a partir de matrizes de distâncias entre sequências.\n",
    "    constructor = DistanceTreeConstructor() \n",
    "    tree = constructor.nj(distance_matrix)\n",
    "\n",
    "    # Salva a árvore\n",
    "    \n",
    "    Phylo.write(tree, path_out_tree, OUTPUT_FORMAT)\n"
   ]
  },
  {
   "cell_type": "markdown",
   "metadata": {},
   "source": [
    "<h3 align=\"center\"> <b>PERCORRER E MANIPULA DIRETORIO</b> </h3>\n"
   ]
  },
  {
   "cell_type": "code",
   "execution_count": null,
   "metadata": {},
   "outputs": [],
   "source": [
    "OUTPUT_PATH_TREES = '../data/out/Trees'\n",
    "OUTPUT_PATH_TMP = '../data/out/tmp'\n",
    "OUTPUT_PATH_MAF = '../data/out/tmp'\n",
    "\n",
    "for name_file in files:\n",
    "    #configurando caminhos relativos padrões do diretorio\n",
    "    path_in_fasta = os.path.join(DATA_PATH,INPUT_PATH,name_file)\n",
    "    path_out_aln = os.path.join(OUTPUT_PATH_TMP,f'{Path(name_file).stem}.aln')\n",
    "    path_out_dnd = os.path.join(OUTPUT_PATH_TMP,f'{Path(name_file).stem}.dnd')\n",
    "    path_old_dnd = os.path.join(DATA_PATH,INPUT_PATH,f'{Path(name_file).stem}.dnd')\n",
    "    path_out_tree = os.path.join(OUTPUT_PATH_TREES,f'tree_{Path(name_file).stem}.{OUTPUT_FORMAT}')\n",
    "\n",
    "    if not(duplicate_names(path_in_fasta)) and validate_sequences(path_in_fasta):\n",
    "        constructor_tree(path_in_fasta, path_out_aln, path_out_dnd, path_old_dnd, path_out_tree)\n",
    "    else:\n",
    "        path_in_fasta = remove_pipe(Path(name_file).stem, path_in_fasta)\n",
    "        path_old_dnd = os.path.join(f'{path_in_fasta}.dnd')\n",
    "\n",
    "        constructor_tree(path_in_fasta, path_out_aln, path_out_dnd, path_old_dnd, path_out_tree)"
   ]
  },
  {
   "cell_type": "markdown",
   "metadata": {},
   "source": [
    "<h3 align=\"center\"> <b>Limpeza arquivos temporários</b> </h3>\n"
   ]
  },
  {
   "cell_type": "code",
   "execution_count": null,
   "metadata": {},
   "outputs": [],
   "source": [
    "clean_NoPipe()\n",
    "clean_tmp()"
   ]
  }
 ],
 "metadata": {
  "kernelspec": {
   "display_name": "Python 3 (ipykernel)",
   "language": "python",
   "name": "python3"
  },
  "language_info": {
   "codemirror_mode": {
    "name": "ipython",
    "version": 3
   },
   "file_extension": ".py",
   "mimetype": "text/x-python",
   "name": "python",
   "nbconvert_exporter": "python",
   "pygments_lexer": "ipython3",
   "version": "3.10.9"
  },
  "vscode": {
   "interpreter": {
    "hash": "52f2c73065b8d13145d55db79ab48bb4f1dda31f26a89129591c7a79ffdd3639"
   }
  }
 },
 "nbformat": 4,
 "nbformat_minor": 2
}
